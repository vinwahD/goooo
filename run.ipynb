{
 "cells": [
  {
   "cell_type": "markdown",
   "id": "7e2df6be-b29e-42fd-9d4d-cf4bb87538a5",
   "metadata": {},
   "source": [
    "# 第一步：配置环境"
   ]
  },
  {
   "cell_type": "code",
   "execution_count": null,
   "id": "eaa9bbcb-b73f-41f0-8ea9-934a78a8e748",
   "metadata": {
    "tags": []
   },
   "outputs": [],
   "source": [
    "!python -m pip install torch numpy==1.21.1 scipy tensorboard pillow==9.3.0 librosa==0.9.2 numba==0.56.4 pytorch-lightning gradio==3.14.0 ffmpeg-python onnxruntime tqdm cn2an pypinyin pyopenjtalk g2p_en chardet transformers==4.37.2 jieba_fast --user\n",
    "!python -m pip install modelscope sentencepiece funasr --user\n",
    "# !apt-get install git-lfs\n",
    "\n",
    "#修复transformers bug\n",
    "# !sed -i '102a\\        if got_ver is None:' /openbayes/home/.pylibs/lib/python3.8/site-packages/transformers/utils/versions.py\n",
    "# !sed -i '103a\\            import pkg_resources' /openbayes/home/.pylibs/lib/python3.8/site-packages/transformers/utils/versions.py\n",
    "# !sed -i '104a\\            got_ver = pkg_resources.get_distribution(pkg).version' /openbayes/home/.pylibs/lib/python3.8/site-packages/transformers/utils/versions.py\n",
    "\n",
    "#修复ffpemg报错\n",
    "!mv /usr/local/lib/libffi.so.7 /usr/local/lib/libffi_bak.so.7\n",
    "!ln -s /lib/x86_64-linux-gnu/libffi.so.7.1.0 /usr/local/lib/libffi.so.7\n",
    "!ldconfig"
   ]
  },
  {
   "cell_type": "markdown",
   "id": "c04437ed-8098-491f-8d7f-7613c930adf1",
   "metadata": {
    "execution": {
     "iopub.execute_input": "2024-02-16T12:26:07.813184Z",
     "iopub.status.busy": "2024-02-16T12:26:07.812852Z",
     "iopub.status.idle": "2024-02-16T12:26:07.819140Z",
     "shell.execute_reply": "2024-02-16T12:26:07.818009Z",
     "shell.execute_reply.started": "2024-02-16T12:26:07.813151Z"
    },
    "tags": []
   },
   "source": [
    "# 第二步：运行代码"
   ]
  },
  {
   "cell_type": "code",
   "execution_count": null,
   "id": "4a038c8d-9474-47bd-920f-9f595cab74b2",
   "metadata": {
    "tags": []
   },
   "outputs": [],
   "source": [
    "!cd GPT-SoVITS/ && python run_all.py"
   ]
  }
 ],
 "metadata": {
  "kernelspec": {
   "display_name": "Python 3 (ipykernel)",
   "language": "python",
   "name": "python3"
  },
  "language_info": {
   "codemirror_mode": {
    "name": "ipython",
    "version": 3
   },
   "file_extension": ".py",
   "mimetype": "text/x-python",
   "name": "python",
   "nbconvert_exporter": "python",
   "pygments_lexer": "ipython3",
   "version": "3.8.18"
  }
 },
 "nbformat": 4,
 "nbformat_minor": 5
}
