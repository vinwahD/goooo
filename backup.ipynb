{
 "cells": [
  {
   "cell_type": "markdown",
   "id": "3b56bb35-175f-4cfc-b77e-36b742e2c856",
   "metadata": {
    "execution": {
     "iopub.execute_input": "2024-01-24T07:36:01.160142Z",
     "iopub.status.busy": "2024-01-24T07:36:01.159344Z",
     "iopub.status.idle": "2024-01-24T07:36:01.163535Z",
     "shell.execute_reply": "2024-01-24T07:36:01.162762Z",
     "shell.execute_reply.started": "2024-01-24T07:36:01.160108Z"
    },
    "tags": []
   },
   "source": [
    "# 第一步：下载代码"
   ]
  },
  {
   "cell_type": "code",
   "execution_count": null,
   "id": "d7fc9283-9b11-4f10-be4f-e611dc3a1f84",
   "metadata": {
    "tags": []
   },
   "outputs": [],
   "source": [
    "!git clone https://github.com/RVC-Boss/GPT-SoVITS.git"
   ]
  },
  {
   "cell_type": "code",
   "execution_count": null,
   "id": "0feb1e63-58ed-4a1d-bc17-28c336e264e0",
   "metadata": {
    "tags": []
   },
   "outputs": [],
   "source": [
    "!cd GPT-SoVITS && ls"
   ]
  },
  {
   "cell_type": "markdown",
   "id": "7d471196-5dfe-4abb-9a7d-085beca6e5f5",
   "metadata": {},
   "source": [
    "# 第二步：安装依赖"
   ]
  },
  {
   "cell_type": "code",
   "execution_count": null,
   "id": "075a7678-3f45-465f-8970-34bc9cd21afe",
   "metadata": {
    "tags": []
   },
   "outputs": [],
   "source": [
    "# !python -m pip install torch torchvision torchaudio\n",
    "!python -m pip install torch numpy==1.21.1 scipy tensorboard pillow==9.3.0 librosa==0.9.2 numba==0.56.4 pytorch-lightning gradio==3.14.0 ffmpeg-python onnxruntime tqdm cn2an pypinyin pyopenjtalk g2p_en chardet transformers==4.37.2 jieba_fast\n",
    "!python -m pip install modelscope sentencepiece funasr\n",
    "!apt-get install git-lfs"
   ]
  },
  {
   "cell_type": "code",
   "execution_count": null,
   "id": "5b964169-7508-4517-9e63-0de863bf5782",
   "metadata": {
    "tags": []
   },
   "outputs": [],
   "source": [
    "!mkdir pretrained_models && cd pretrained_models && git lfs clone https://huggingface.co/lj1995/GPT-SoVITS"
   ]
  },
  {
   "cell_type": "code",
   "execution_count": null,
   "id": "096a9452-1def-41d4-8c63-a7e3a145b078",
   "metadata": {
    "tags": []
   },
   "outputs": [],
   "source": [
    "!ls pretrained_models/GPT-SoVITS/"
   ]
  },
  {
   "cell_type": "code",
   "execution_count": null,
   "id": "f671ea42-aa22-4024-96e3-313694fc09b5",
   "metadata": {
    "tags": []
   },
   "outputs": [],
   "source": [
    "!ls GPT-SoVITS"
   ]
  },
  {
   "cell_type": "code",
   "execution_count": null,
   "id": "9e5dee2f-fc46-41a1-8915-a8cd5ef2aed4",
   "metadata": {
    "tags": []
   },
   "outputs": [],
   "source": [
    "!cd pretrained_models && git clone https://www.modelscope.cn/iic/speech_paraformer-large_asr_nat-zh-cn-16k-common-vocab8404-pytorch.git"
   ]
  },
  {
   "cell_type": "code",
   "execution_count": null,
   "id": "82c3a2a4-c931-4a8f-a06d-a8ae4e505e36",
   "metadata": {
    "tags": []
   },
   "outputs": [],
   "source": [
    "!cd pretrained_models && git clone https://www.modelscope.cn/iic/speech_fsmn_vad_zh-cn-16k-common-pytorch.git"
   ]
  },
  {
   "cell_type": "code",
   "execution_count": null,
   "id": "a36988dc-7a6a-435b-a19a-d36220ecffc6",
   "metadata": {
    "tags": []
   },
   "outputs": [],
   "source": [
    "!cd pretrained_models && git clone https://www.modelscope.cn/iic/punc_ct-transformer_zh-cn-common-vocab272727-pytorch.git"
   ]
  },
  {
   "cell_type": "code",
   "execution_count": null,
   "id": "d3f90be3-fa76-414d-aff7-fdea1b4d1c35",
   "metadata": {
    "tags": []
   },
   "outputs": [],
   "source": [
    "!mkdir pretrained_models/uvr5_weights && cd pretrained_models/uvr5_weights && wget -O \"HP2-人声vocals+非人声instrumentals.pth\" https://huggingface.co/lj1995/VoiceConversionWebUI/resolve/main/uvr5_weights/HP2-%E4%BA%BA%E5%A3%B0vocals%2B%E9%9D%9E%E4%BA%BA%E5%A3%B0instrumentals.pth?download=true\n",
    "!cd pretrained_models/uvr5_weights && wget -O \"HP2_all_vocals.pth\" https://huggingface.co/lj1995/VoiceConversionWebUI/resolve/main/uvr5_weights/HP2_all_vocals.pth?download=true\n",
    "!cd pretrained_models/uvr5_weights && wget -O \"HP3_all_vocals.pth\" https://huggingface.co/lj1995/VoiceConversionWebUI/resolve/main/uvr5_weights/HP3_all_vocals.pth?download=true\n",
    "!cd pretrained_models/uvr5_weights && wget -O \"HP5-主旋律人声vocals+其他instrumentals.pth\" https://huggingface.co/lj1995/VoiceConversionWebUI/resolve/main/uvr5_weights/HP5-%E4%B8%BB%E6%97%8B%E5%BE%8B%E4%BA%BA%E5%A3%B0vocals%2B%E5%85%B6%E4%BB%96instrumentals.pth?download=true\n",
    "!cd pretrained_models/uvr5_weights && wget -O \"HP5_only_main_vocal.pth\" https://huggingface.co/lj1995/VoiceConversionWebUI/resolve/main/uvr5_weights/HP5_only_main_vocal.pth?download=true\n",
    "!cd pretrained_models/uvr5_weights && wget -O \"VR-DeEchoAggressive.pth\" https://huggingface.co/lj1995/VoiceConversionWebUI/resolve/main/uvr5_weights/VR-DeEchoAggressive.pth?download=true\n",
    "!cd pretrained_models/uvr5_weights && wget -O \"VR-DeEchoDeReverb.pth\" https://huggingface.co/lj1995/VoiceConversionWebUI/resolve/main/uvr5_weights/VR-DeEchoDeReverb.pth?download=true\n",
    "!cd pretrained_models/uvr5_weights && wget -O \"VR-DeEchoNormal.pth\" https://huggingface.co/lj1995/VoiceConversionWebUI/resolve/main/uvr5_weights/VR-DeEchoNormal.pth?download=true\n",
    "!mkdir pretrained_models/uvr5_weights/onnx_dereverb_By_FoxJoy && cd pretrained_models/uvr5_weights/onnx_dereverb_By_FoxJoy && wget -O \"vocals.onnx\" https://huggingface.co/lj1995/VoiceConversionWebUI/resolve/main/uvr5_weights/onnx_dereverb_By_FoxJoy/vocals.onnx?download=true"
   ]
  },
  {
   "cell_type": "code",
   "execution_count": null,
   "id": "22c63df9-f7bb-42f7-93d5-6e60d69e55ae",
   "metadata": {
    "tags": []
   },
   "outputs": [],
   "source": [
    "!cp -r pretrained_models/GPT-SoVITS/* GPT-SoVITS/GPT_SoVITS/pretrained_models/\n",
    "#!cp -r pretrained_models/punc_ct-transformer_zh-cn-common-vocab272727-pytorch/ GPT-SoVITS/tools/damo_asr/models/\n",
    "#!cp -r pretrained_models/speech_fsmn_vad_zh-cn-16k-common-pytorch/ GPT-SoVITS/tools/damo_asr/models/\n",
    "#!cp -r pretrained_models/speech_paraformer-large_asr_nat-zh-cn-16k-common-vocab8404-pytorch/ GPT-SoVITS/tools/damo_asr/models/\n",
    "!cp -r pretrained_models/uvr5_weights/ GPT-SoVITS/tools/uvr5/"
   ]
  },
  {
   "cell_type": "code",
   "execution_count": null,
   "id": "110fe248-0025-45d2-bd79-ce74aed642e3",
   "metadata": {
    "tags": []
   },
   "outputs": [],
   "source": [
    "!cd GPT-SoVITS/ && python webui.py"
   ]
  },
  {
   "cell_type": "code",
   "execution_count": null,
   "id": "1a4a0484-5847-47dc-a64d-a8e458141bad",
   "metadata": {
    "tags": []
   },
   "outputs": [],
   "source": [
    "        # got_ver = importlib.metadata.version(pkg)\n",
    "        # if got_ver is None:\n",
    "        #     import pkg_resources\n",
    "        #     got_ver = pkg_resources.get_distribution(pkg).version\n",
    "# 修复transformers bug\n",
    "!sed -i '102a\\        if got_ver is None:' /usr/local/lib/python3.8/site-packages/transformers/utils/versions.py\n",
    "!sed -i '103a\\            import pkg_resources' /usr/local/lib/python3.8/site-packages/transformers/utils/versions.py\n",
    "!sed -i '104a\\            got_ver = pkg_resources.get_distribution(pkg).version' /usr/local/lib/python3.8/site-packages/transformers/utils/versions.py\n",
    "\n",
    "\n",
    "# !sed -i '1a\\import sys' /output/GPT-SoVITS/GPT_SoVITS/s2_train.py\n",
    "# !sed -i '2a\\sys.path.append(\"/openbayes/home/GPT-SoVITS\")' /output/GPT-SoVITS/GPT_SoVITS/s2_train.py\n",
    "\n",
    "# !sed -i '1a\\import sys' /output/GPT-SoVITS/GPT_SoVITS/process_ckpt.py\n",
    "# !sed -i '2a\\sys.path.append(\"/openbayes/home/GPT-SoVITS\")' /output/GPT-SoVITS/GPT_SoVITS/process_ckpt.py"
   ]
  },
  {
   "cell_type": "code",
   "execution_count": null,
   "id": "c12e3a17-27f6-40a7-b3d4-e70e5f3286f7",
   "metadata": {
    "tags": []
   },
   "outputs": [],
   "source": [
    "!cd GPT-SoVITS/ && python run_all.py"
   ]
  },
  {
   "cell_type": "code",
   "execution_count": null,
   "id": "83d7c535-f66f-40f9-9e0d-fb1c9bdd68d0",
   "metadata": {},
   "outputs": [],
   "source": []
  }
 ],
 "metadata": {
  "kernelspec": {
   "display_name": "Python 3 (ipykernel)",
   "language": "python",
   "name": "python3"
  },
  "language_info": {
   "codemirror_mode": {
    "name": "ipython",
    "version": 3
   },
   "file_extension": ".py",
   "mimetype": "text/x-python",
   "name": "python",
   "nbconvert_exporter": "python",
   "pygments_lexer": "ipython3",
   "version": "3.8.18"
  }
 },
 "nbformat": 4,
 "nbformat_minor": 5
}
